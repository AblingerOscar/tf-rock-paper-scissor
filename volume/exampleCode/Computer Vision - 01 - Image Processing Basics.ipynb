{
 "cells": [
  {
   "cell_type": "code",
   "execution_count": 2,
   "metadata": {},
   "outputs": [
    {
     "ename": "ImportError",
     "evalue": "No module named skimage",
     "output_type": "error",
     "traceback": [
      "\u001b[0;31m\u001b[0m",
      "\u001b[0;31mImportError\u001b[0mTraceback (most recent call last)",
      "\u001b[0;32m<ipython-input-2-fb6f7f37285d>\u001b[0m in \u001b[0;36m<module>\u001b[0;34m()\u001b[0m\n\u001b[1;32m      3\u001b[0m \u001b[0;32mimport\u001b[0m \u001b[0mimageio\u001b[0m\u001b[0;34m\u001b[0m\u001b[0;34m\u001b[0m\u001b[0m\n\u001b[1;32m      4\u001b[0m \u001b[0;32mimport\u001b[0m \u001b[0mmatplotlib\u001b[0m\u001b[0;34m.\u001b[0m\u001b[0mpylab\u001b[0m \u001b[0;32mas\u001b[0m \u001b[0mplt\u001b[0m\u001b[0;34m\u001b[0m\u001b[0;34m\u001b[0m\u001b[0m\n\u001b[0;32m----> 5\u001b[0;31m \u001b[0;32mimport\u001b[0m \u001b[0mskimage\u001b[0m\u001b[0;34m\u001b[0m\u001b[0;34m\u001b[0m\u001b[0m\n\u001b[0m\u001b[1;32m      6\u001b[0m \u001b[0;32mimport\u001b[0m \u001b[0mscipy\u001b[0m\u001b[0;34m\u001b[0m\u001b[0;34m\u001b[0m\u001b[0m\n\u001b[1;32m      7\u001b[0m \u001b[0;32mimport\u001b[0m \u001b[0mnumpy\u001b[0m \u001b[0;32mas\u001b[0m \u001b[0mnp\u001b[0m\u001b[0;34m\u001b[0m\u001b[0;34m\u001b[0m\u001b[0m\n",
      "\u001b[0;31mImportError\u001b[0m: No module named skimage"
     ]
    }
   ],
   "source": [
    "%matplotlib inline\n",
    "\n",
    "import imageio\n",
    "import matplotlib.pylab as plt\n",
    "import skimage\n",
    "import scipy\n",
    "import numpy as np"
   ]
  },
  {
   "cell_type": "markdown",
   "metadata": {},
   "source": [
    "## load and display example image"
   ]
  },
  {
   "cell_type": "code",
   "execution_count": null,
   "metadata": {},
   "outputs": [],
   "source": [
    "img = skimage.data.astronaut()\n",
    "plt.imshow(img)"
   ]
  },
  {
   "cell_type": "markdown",
   "metadata": {},
   "source": [
    "## load cat"
   ]
  },
  {
   "cell_type": "code",
   "execution_count": null,
   "metadata": {},
   "outputs": [],
   "source": [
    "img = imageio.imread('imageio:chelsea.png')\n",
    "plt.imshow(img)"
   ]
  },
  {
   "cell_type": "markdown",
   "metadata": {},
   "source": [
    "## load from URL"
   ]
  },
  {
   "cell_type": "code",
   "execution_count": null,
   "metadata": {},
   "outputs": [],
   "source": [
    "img = imageio.imread(\"https://upload.wikimedia.org/wikipedia/commons/8/88/Commander_Eileen_Collins_-_GPN-2000-001177.jpg\")\n",
    "plt.imshow(img)"
   ]
  },
  {
   "cell_type": "markdown",
   "metadata": {},
   "source": [
    "imageio can read almost everything (webcam, screenshots, ...) check [here](https://imageio.readthedocs.io/en/stable/examples.html) for examples"
   ]
  },
  {
   "cell_type": "markdown",
   "metadata": {},
   "source": [
    "## analyze image"
   ]
  },
  {
   "cell_type": "code",
   "execution_count": null,
   "metadata": {},
   "outputs": [],
   "source": [
    "img = skimage.data.astronaut()\n",
    "print(\"shape =\", img.shape)\n",
    "print(\"data type = \", img.dtype)\n",
    "print(\"min = \", np.min(img))\n",
    "print(\"max = \", np.max(img))"
   ]
  },
  {
   "cell_type": "markdown",
   "metadata": {},
   "source": [
    "assumption: RGB image, values between 0 and 255"
   ]
  },
  {
   "cell_type": "markdown",
   "metadata": {},
   "source": [
    "## plot histogram"
   ]
  },
  {
   "cell_type": "code",
   "execution_count": null,
   "metadata": {},
   "outputs": [],
   "source": [
    "plt.figure(figsize=(20,10))\n",
    "for c,cl in enumerate([\"red\", \"green\", \"blue\"]):\n",
    "    plt.hist(img[:,:,c].flatten(), bins=256, color=cl, alpha=0.6);    "
   ]
  },
  {
   "cell_type": "markdown",
   "metadata": {},
   "source": [
    "## split color channels"
   ]
  },
  {
   "cell_type": "code",
   "execution_count": null,
   "metadata": {},
   "outputs": [],
   "source": [
    "plt.figure(figsize=(20,20))\n",
    "for c,cl in enumerate([\"red\", \"green\", \"blue\"]):\n",
    "    plt.subplot(1,3, c+1)\n",
    "    plt.title(cl, fontsize=30)\n",
    "    plt.imshow(img[:,:,c], cmap=plt.cm.gray)"
   ]
  },
  {
   "cell_type": "markdown",
   "metadata": {},
   "source": [
    "## convert to HSV"
   ]
  },
  {
   "cell_type": "code",
   "execution_count": null,
   "metadata": {},
   "outputs": [],
   "source": [
    "img_hsv = skimage.color.rgb2hsv(img)\n",
    "\n",
    "plt.figure(figsize=(20,20))\n",
    "for c,cl in enumerate([\"hue\", \"saturation\", \"value\"]):\n",
    "    plt.subplot(1,3, c+1)\n",
    "    plt.title(cl, fontsize=30)\n",
    "    plt.imshow(img_hsv[:,:,c], cmap=plt.cm.gray)"
   ]
  },
  {
   "cell_type": "markdown",
   "metadata": {},
   "source": [
    "### different color maps"
   ]
  },
  {
   "cell_type": "markdown",
   "metadata": {},
   "source": [
    "list of color maps found [here](https://matplotlib.org/3.1.0/tutorials/colors/colormaps.html)"
   ]
  },
  {
   "cell_type": "code",
   "execution_count": null,
   "metadata": {},
   "outputs": [],
   "source": [
    "plt.figure(figsize=(20,20))\n",
    "for c, (cl,cm) in enumerate(zip([\"hue\", \"saturation\", \"value\"], [plt.cm.hsv, plt.cm.cool, plt.cm.hot])):\n",
    "    plt.subplot(1,3, c+1)\n",
    "    plt.title(cl, fontsize=30)\n",
    "    plt.imshow(img_hsv[:,:,c], cmap=cm)"
   ]
  },
  {
   "cell_type": "markdown",
   "metadata": {},
   "source": [
    "# grayscale"
   ]
  },
  {
   "cell_type": "code",
   "execution_count": null,
   "metadata": {},
   "outputs": [],
   "source": [
    "img_gray = skimage.color.rgb2gray(img)\n",
    "print(\"shape =\", img_gray.shape)\n",
    "print(\"data type = \", img_gray.dtype)\n",
    "print(\"min = \", np.min(img_gray))\n",
    "print(\"max = \", np.max(img_gray))\n",
    "plt.figure(figsize=(20,20))\n",
    "plt.imshow(img_gray, cmap=plt.cm.gray)"
   ]
  },
  {
   "cell_type": "markdown",
   "metadata": {},
   "source": [
    "# convolutions"
   ]
  },
  {
   "cell_type": "markdown",
   "metadata": {},
   "source": [
    "### box filter"
   ]
  },
  {
   "cell_type": "code",
   "execution_count": null,
   "metadata": {},
   "outputs": [],
   "source": [
    "box = np.ones((3,3))\n",
    "img_box = scipy.ndimage.filters.convolve(img_gray, box)\n",
    "plt.figure(figsize=(20,20))\n",
    "plt.imshow(img_box, cmap=plt.cm.gray)"
   ]
  },
  {
   "cell_type": "code",
   "execution_count": null,
   "metadata": {},
   "outputs": [],
   "source": [
    "box = np.ones((51,51))\n",
    "img_box = scipy.ndimage.filters.convolve(img_gray, box, mode='constant', cval=0)\n",
    "plt.figure(figsize=(20,20))\n",
    "plt.imshow(img_box, cmap=plt.cm.gray)"
   ]
  },
  {
   "cell_type": "markdown",
   "metadata": {},
   "source": [
    "note:\n",
    "* border artefacts\n",
    "* blurring artefacts due to box filter"
   ]
  },
  {
   "cell_type": "markdown",
   "metadata": {},
   "source": [
    "### Gauss filter"
   ]
  },
  {
   "cell_type": "code",
   "execution_count": null,
   "metadata": {},
   "outputs": [],
   "source": [
    "img_gauss = scipy.ndimage.gaussian_filter(img_gray, 3)\n",
    "plt.figure(figsize=(20,20))\n",
    "plt.imshow(img_gauss, cmap=plt.cm.gray)"
   ]
  },
  {
   "cell_type": "code",
   "execution_count": null,
   "metadata": {},
   "outputs": [],
   "source": [
    "img_gauss = scipy.ndimage.gaussian_filter(img_gray, 21, truncate=4)\n",
    "plt.figure(figsize=(20,20))\n",
    "plt.imshow(img_gauss, cmap=plt.cm.gray)"
   ]
  },
  {
   "cell_type": "markdown",
   "metadata": {},
   "source": [
    "## gabor kernel"
   ]
  },
  {
   "cell_type": "code",
   "execution_count": null,
   "metadata": {},
   "outputs": [],
   "source": [
    "gabor_kernel = np.real(skimage.filters.gabor_kernel(frequency=0.1, theta=np.pi, sigma_x=5, sigma_y=5))\n",
    "plt.figure(figsize=(10,10))\n",
    "plt.imshow(gabor_kernel)"
   ]
  },
  {
   "cell_type": "code",
   "execution_count": null,
   "metadata": {},
   "outputs": [],
   "source": [
    "img_gabor = scipy.ndimage.filters.convolve(img_gray, gabor_kernel, mode='constant', cval=0)\n",
    "plt.figure(figsize=(20,20))\n",
    "plt.imshow(img_gabor, cmap=plt.cm.gray)"
   ]
  },
  {
   "cell_type": "markdown",
   "metadata": {},
   "source": [
    "# Morphological Operations"
   ]
  },
  {
   "cell_type": "code",
   "execution_count": null,
   "metadata": {},
   "outputs": [],
   "source": [
    "import skimage.morphology\n",
    "\n",
    "mask = np.zeros((128, 128), dtype=np.bool)\n",
    "mask[10:100, 50:60] = True\n",
    "mask[60:62, :110] = True\n",
    "\n",
    "mask[np.random.randint(128, size=(100,)), np.random.randint(128, size=(100,))] = True\n",
    "plt.figure(figsize=(20,20))\n",
    "plt.imshow(mask)"
   ]
  },
  {
   "cell_type": "code",
   "execution_count": null,
   "metadata": {},
   "outputs": [],
   "source": [
    "eroded = skimage.morphology.erosion(mask)\n",
    "\n",
    "plt.figure(figsize=(20,20))\n",
    "plt.imshow(eroded)"
   ]
  },
  {
   "cell_type": "code",
   "execution_count": null,
   "metadata": {},
   "outputs": [],
   "source": [
    "dilated = skimage.morphology.dilation(mask)\n",
    "\n",
    "plt.figure(figsize=(20,20))\n",
    "plt.imshow(dilated)"
   ]
  },
  {
   "cell_type": "code",
   "execution_count": null,
   "metadata": {},
   "outputs": [],
   "source": [
    "opened = skimage.morphology.opening(mask)\n",
    "\n",
    "plt.figure(figsize=(20,20))\n",
    "plt.imshow(opened)"
   ]
  },
  {
   "cell_type": "code",
   "execution_count": null,
   "metadata": {},
   "outputs": [],
   "source": [
    "closed = skimage.morphology.closing(mask)\n",
    "plt.figure(figsize=(20,20))\n",
    "plt.imshow(closed)"
   ]
  },
  {
   "cell_type": "code",
   "execution_count": null,
   "metadata": {},
   "outputs": [],
   "source": [
    "import scipy\n",
    "\n",
    "distance = scipy.ndimage.morphology.distance_transform_edt(mask)\n",
    "plt.figure(figsize=(20,20))\n",
    "plt.imshow(distance)"
   ]
  }
 ],
 "metadata": {
  "kernelspec": {
   "display_name": "Python 2",
   "language": "python",
   "name": "python2"
  },
  "language_info": {
   "codemirror_mode": {
    "name": "ipython",
    "version": 2
   },
   "file_extension": ".py",
   "mimetype": "text/x-python",
   "name": "python",
   "nbconvert_exporter": "python",
   "pygments_lexer": "ipython2",
   "version": "2.7.15+"
  }
 },
 "nbformat": 4,
 "nbformat_minor": 2
}
