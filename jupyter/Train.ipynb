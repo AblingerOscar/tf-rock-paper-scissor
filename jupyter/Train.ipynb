{
 "cells": [
  {
   "cell_type": "markdown",
   "metadata": {},
   "source": [
    "# Preparations\n",
    "\n",
    "Import various libraries: Mainly Tensorflow & Keras\n",
    "\n",
    "> **TODO: Remove unnecessary imports**"
   ]
  },
  {
   "cell_type": "code",
   "execution_count": 1,
   "metadata": {},
   "outputs": [
    {
     "name": "stderr",
     "output_type": "stream",
     "text": [
      "Using TensorFlow backend.\n"
     ]
    }
   ],
   "source": [
    "from keras.preprocessing.image import ImageDataGenerator\n",
    "from keras.models import Sequential,Input,Model\n",
    "from keras.layers import Conv2D,MaxPooling2D,Dense,Flatten,Dropout,Concatenate,GlobalAveragePooling2D,Lambda,ZeroPadding2D"
   ]
  },
  {
   "cell_type": "markdown",
   "metadata": {},
   "source": [
    "Setting some general values."
   ]
  },
  {
   "cell_type": "code",
   "execution_count": 2,
   "metadata": {},
   "outputs": [],
   "source": [
    "IMG_HEIGHT = 200 # original is 300\n",
    "IMG_WIDTH = 200\n",
    "\n",
    "BATCH_SIZE_TRAIN = 10\n",
    "BATCH_SIZE_VAL = 10\n",
    "EPOCHS = 20"
   ]
  },
  {
   "cell_type": "markdown",
   "metadata": {},
   "source": [
    "# Load the Images\n",
    "\n",
    "First we load the classified images."
   ]
  },
  {
   "cell_type": "code",
   "execution_count": 3,
   "metadata": {},
   "outputs": [
    {
     "name": "stdout",
     "output_type": "stream",
     "text": [
      "Found 1751 images belonging to 3 classes.\n",
      "Found 437 images belonging to 3 classes.\n",
      "(array([[[[0.16470589, 0.5803922 , 0.2784314 ],\n",
      "         [0.16862746, 0.5803922 , 0.2901961 ],\n",
      "         [0.18039216, 0.58431375, 0.2901961 ],\n",
      "         ...,\n",
      "         [0.12941177, 0.47058827, 0.1764706 ],\n",
      "         [0.12941177, 0.45882356, 0.18039216],\n",
      "         [0.13725491, 0.46274513, 0.19215688]],\n",
      "\n",
      "        [[0.16470589, 0.5803922 , 0.2784314 ],\n",
      "         [0.16862746, 0.5803922 , 0.2901961 ],\n",
      "         [0.18039216, 0.58431375, 0.2901961 ],\n",
      "         ...,\n",
      "         [0.12941177, 0.47058827, 0.1764706 ],\n",
      "         [0.12941177, 0.45882356, 0.18039216],\n",
      "         [0.13725491, 0.46274513, 0.19215688]],\n",
      "\n",
      "        [[0.16470589, 0.5803922 , 0.2784314 ],\n",
      "         [0.16862746, 0.5803922 , 0.2901961 ],\n",
      "         [0.18039216, 0.58431375, 0.2901961 ],\n",
      "         ...,\n",
      "         [0.12941177, 0.47058827, 0.1764706 ],\n",
      "         [0.12941177, 0.45882356, 0.18039216],\n",
      "         [0.13725491, 0.46274513, 0.19215688]],\n",
      "\n",
      "        ...,\n",
      "\n",
      "        [[0.13725491, 0.5343423 , 0.22151151],\n",
      "         [0.14901961, 0.54901963, 0.23327622],\n",
      "         [0.14901961, 0.55103755, 0.23428518],\n",
      "         ...,\n",
      "         [0.14308013, 0.5176471 , 0.20291263],\n",
      "         [0.14509805, 0.519665  , 0.2059395 ],\n",
      "         [0.1470017 , 0.5108129 , 0.20000002]],\n",
      "\n",
      "        [[0.13725491, 0.53333336, 0.22352943],\n",
      "         [0.14901961, 0.54901963, 0.23529413],\n",
      "         [0.15484484, 0.5519323 , 0.23820674],\n",
      "         ...,\n",
      "         [0.14509805, 0.5176471 , 0.20392159],\n",
      "         [0.14509805, 0.5176471 , 0.20392159],\n",
      "         [0.15193224, 0.5127166 , 0.20291263]],\n",
      "\n",
      "        [[0.14016753, 0.536246  , 0.22644204],\n",
      "         [0.146107  , 0.546107  , 0.23238151],\n",
      "         [0.15686275, 0.547116  , 0.23630308],\n",
      "         ...,\n",
      "         [0.14509805, 0.5176471 , 0.20392159],\n",
      "         [0.14509805, 0.5176471 , 0.20392159],\n",
      "         [0.1587664 , 0.51955074, 0.21265942]]],\n",
      "\n",
      "\n",
      "       [[[0.3372549 , 0.6       , 0.24313727],\n",
      "         [0.3254902 , 0.6039216 , 0.2509804 ],\n",
      "         [0.33333334, 0.6117647 , 0.2627451 ],\n",
      "         ...,\n",
      "         [0.28627452, 0.6156863 , 0.227451  ],\n",
      "         [0.27450982, 0.6117647 , 0.23137257],\n",
      "         [0.27450982, 0.6117647 , 0.23137257]],\n",
      "\n",
      "        [[0.3372549 , 0.6       , 0.24313727],\n",
      "         [0.3254902 , 0.6039216 , 0.2509804 ],\n",
      "         [0.33333334, 0.6117647 , 0.2627451 ],\n",
      "         ...,\n",
      "         [0.28627452, 0.6156863 , 0.227451  ],\n",
      "         [0.27450982, 0.6117647 , 0.23137257],\n",
      "         [0.27450982, 0.6117647 , 0.23137257]],\n",
      "\n",
      "        [[0.3372549 , 0.6       , 0.24313727],\n",
      "         [0.3254902 , 0.6039216 , 0.2509804 ],\n",
      "         [0.33333334, 0.6117647 , 0.2627451 ],\n",
      "         ...,\n",
      "         [0.28627452, 0.6156863 , 0.227451  ],\n",
      "         [0.27450982, 0.6117647 , 0.23137257],\n",
      "         [0.27450982, 0.6117647 , 0.23137257]],\n",
      "\n",
      "        ...,\n",
      "\n",
      "        [[0.6582817 , 0.51318365, 0.35091186],\n",
      "         [0.5891821 , 0.43299577, 0.28397617],\n",
      "         [0.62001526, 0.46504602, 0.30453202],\n",
      "         ...,\n",
      "         [0.27207565, 0.68411076, 0.26423252],\n",
      "         [0.27329275, 0.6808656 , 0.2696415 ],\n",
      "         [0.27329275, 0.67964846, 0.27207565]],\n",
      "\n",
      "        [[0.5863418 , 0.44124377, 0.284381  ],\n",
      "         [0.64381504, 0.5065601 , 0.35754046],\n",
      "         [0.73279274, 0.5994594 , 0.43083194],\n",
      "         ...,\n",
      "         [0.271535  , 0.6754566 , 0.26369187],\n",
      "         [0.27058825, 0.6862745 , 0.25882354],\n",
      "         [0.27180535, 0.68478715, 0.26910084]],\n",
      "\n",
      "        [[0.6036526 , 0.46098867, 0.3041259 ],\n",
      "         [0.7253545 , 0.5868825 , 0.43299448],\n",
      "         [0.7283293 , 0.5937788 , 0.4275855 ],\n",
      "         ...,\n",
      "         [0.2799188 , 0.6850575 , 0.27207565],\n",
      "         [0.26937118, 0.6850575 , 0.25760648],\n",
      "         [0.27450982, 0.6901961 , 0.27450982]]]], dtype=float32), array([[0., 0., 1.],\n",
      "       [1., 0., 0.]], dtype=float32))\n"
     ]
    }
   ],
   "source": [
    "dataset_dir = './dataset/'\n",
    "\n",
    "img_gen = ImageDataGenerator(\n",
    "    rescale = 1./255, # Rescale [0, 255] to [0, 1] because NN prefer smaller input\n",
    "    horizontal_flip = True, # Randomly flip inputs horizontally\n",
    "    vertical_flip = True, # Randomly flips inputs vertically\n",
    "    height_shift_range = .2,\n",
    "    validation_split = 0.2 # mark  20% as belonging to the validation set\n",
    ")\n",
    "\n",
    "train_gen = img_gen.flow_from_directory(\n",
    "    dataset_dir,\n",
    "    batch_size=BATCH_SIZE_TRAIN,\n",
    "    shuffle = True,\n",
    "    target_size=(IMG_HEIGHT, IMG_WIDTH),\n",
    "    class_mode = 'categorical',\n",
    "    subset = 'training'\n",
    ")\n",
    "\n",
    "val_gen = img_gen.flow_from_directory(\n",
    "    dataset_dir,\n",
    "    batch_size=BATCH_SIZE_VAL,\n",
    "    shuffle = True,\n",
    "    target_size=(IMG_HEIGHT, IMG_WIDTH),\n",
    "    class_mode = 'categorical',\n",
    "    subset = 'validation'\n",
    ")\n",
    "\n",
    "print(train_gen[0])\n"
   ]
  },
  {
   "cell_type": "markdown",
   "metadata": {},
   "source": [
    "We have 2188 images in total.\n",
    "They have now been split up in training and validation sets (that are strictly not overlapping)"
   ]
  },
  {
   "cell_type": "markdown",
   "metadata": {},
   "source": [
    "# Create the model\n",
    "\n",
    "This is the part that has to be optimized the most! (and isn't at all yet)"
   ]
  },
  {
   "cell_type": "code",
   "execution_count": 4,
   "metadata": {},
   "outputs": [],
   "source": [
    "model = Sequential([\n",
    "    Conv2D(16, 3, padding='same', activation='relu', input_shape=(IMG_HEIGHT, IMG_WIDTH, 3)),\n",
    "    MaxPooling2D(),\n",
    "    Conv2D(32, 3, padding='same', activation='relu'),\n",
    "    MaxPooling2D(),\n",
    "    Conv2D(64, 3, padding='same', activation='relu'),\n",
    "    MaxPooling2D(),\n",
    "    Flatten(),\n",
    "    Dense(512, activation='relu'),\n",
    "    Dense(3, activation='sigmoid')\n",
    "])"
   ]
  },
  {
   "cell_type": "markdown",
   "metadata": {},
   "source": [
    "# Compile the model"
   ]
  },
  {
   "cell_type": "code",
   "execution_count": 5,
   "metadata": {},
   "outputs": [
    {
     "name": "stdout",
     "output_type": "stream",
     "text": [
      "Model: \"sequential_1\"\n",
      "_________________________________________________________________\n",
      "Layer (type)                 Output Shape              Param #   \n",
      "=================================================================\n",
      "conv2d_1 (Conv2D)            (None, 200, 200, 16)      448       \n",
      "_________________________________________________________________\n",
      "max_pooling2d_1 (MaxPooling2 (None, 100, 100, 16)      0         \n",
      "_________________________________________________________________\n",
      "conv2d_2 (Conv2D)            (None, 100, 100, 32)      4640      \n",
      "_________________________________________________________________\n",
      "max_pooling2d_2 (MaxPooling2 (None, 50, 50, 32)        0         \n",
      "_________________________________________________________________\n",
      "conv2d_3 (Conv2D)            (None, 50, 50, 64)        18496     \n",
      "_________________________________________________________________\n",
      "max_pooling2d_3 (MaxPooling2 (None, 25, 25, 64)        0         \n",
      "_________________________________________________________________\n",
      "flatten_1 (Flatten)          (None, 40000)             0         \n",
      "_________________________________________________________________\n",
      "dense_1 (Dense)              (None, 512)               20480512  \n",
      "_________________________________________________________________\n",
      "dense_2 (Dense)              (None, 3)                 1539      \n",
      "=================================================================\n",
      "Total params: 20,505,635\n",
      "Trainable params: 20,505,635\n",
      "Non-trainable params: 0\n",
      "_________________________________________________________________\n"
     ]
    }
   ],
   "source": [
    "model.compile(\n",
    "    optimizer='adam',\n",
    "    loss='binary_crossentropy',\n",
    "    metrics=['accuracy']\n",
    ")\n",
    "\n",
    "model.summary()"
   ]
  },
  {
   "cell_type": "code",
   "execution_count": 6,
   "metadata": {},
   "outputs": [
    {
     "name": "stdout",
     "output_type": "stream",
     "text": [
      "Epoch 1/2\n",
      "2/2 [==============================] - 4s 2s/step - loss: 0.6137 - accuracy: 0.7500 - val_loss: 0.6473 - val_accuracy: 0.6667\n",
      "Epoch 2/2\n",
      "2/2 [==============================] - 3s 1s/step - loss: 0.7673 - accuracy: 0.5000 - val_loss: 2.2566 - val_accuracy: 0.3333\n"
     ]
    }
   ],
   "source": [
    "history = model.fit_generator(\n",
    "    train_gen,\n",
    "    steps_per_epoch=BATCH_SIZE_TRAIN,\n",
    "    epochs=EPOCHS,\n",
    "    validation_data=val_gen,\n",
    "    validation_steps=BATCH_SIZE_VAL\n",
    ")"
   ]
  },
  {
   "cell_type": "markdown",
   "metadata": {},
   "source": [
    "Evaluating the result"
   ]
  },
  {
   "cell_type": "code",
   "execution_count": 7,
   "metadata": {},
   "outputs": [
    {
     "name": "stdout",
     "output_type": "stream",
     "text": [
      "Model Test Loss: 0.09732592105865479\n",
      "Model Test Accuracy: 0.8333333730697632\n"
     ]
    }
   ],
   "source": [
    "scores = model.evaluate_generator(val_gen, steps=BATCH_SIZE_VAL)\n",
    "print(\"Model Test Loss:\" , scores[0])\n",
    "print(\"Model Test Accuracy:\", scores[1])"
   ]
  },
  {
   "cell_type": "markdown",
   "metadata": {},
   "source": [
    "# Saving the model\n",
    "\n",
    "We're using the SavedModel format as that also saves all of the weights "
   ]
  },
  {
   "cell_type": "code",
   "execution_count": 9,
   "metadata": {},
   "outputs": [],
   "source": [
    "model_name = \"akt-model\"\n",
    "\n",
    "model.save(model_name + \".h5\")\n",
    "# can be loaded again with\n",
    "# from keras.models import load_model\n",
    "# model = load_model(model_name + \".h5\")"
   ]
  },
  {
   "cell_type": "code",
   "execution_count": null,
   "metadata": {},
   "outputs": [],
   "source": []
  },
  {
   "cell_type": "code",
   "execution_count": null,
   "metadata": {},
   "outputs": [],
   "source": []
  },
  {
   "cell_type": "code",
   "execution_count": null,
   "metadata": {},
   "outputs": [],
   "source": []
  },
  {
   "cell_type": "code",
   "execution_count": null,
   "metadata": {},
   "outputs": [],
   "source": []
  },
  {
   "cell_type": "code",
   "execution_count": null,
   "metadata": {},
   "outputs": [],
   "source": []
  }
 ],
 "metadata": {
  "kernelspec": {
   "display_name": "Python 3",
   "language": "python",
   "name": "python3"
  },
  "language_info": {
   "codemirror_mode": {
    "name": "ipython",
    "version": 3
   },
   "file_extension": ".py",
   "mimetype": "text/x-python",
   "name": "python",
   "nbconvert_exporter": "python",
   "pygments_lexer": "ipython3",
   "version": "3.6.8"
  }
 },
 "nbformat": 4,
 "nbformat_minor": 2
}
