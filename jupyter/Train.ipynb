{
 "cells": [
  {
   "cell_type": "markdown",
   "metadata": {},
   "source": [
    "# Preparations\n",
    "\n",
    "Import various libraries: Mainly Tensorflow & Keras\n",
    "\n",
    "> **TODO: Remove unnecessary imports**"
   ]
  },
  {
   "cell_type": "code",
   "execution_count": 3,
   "metadata": {},
   "outputs": [],
   "source": [
    "import tensorflow as tf\n",
    "import numpy as np\n",
    "from keras.preprocessing.image import ImageDataGenerator\n",
    "from keras.models import Sequential,Input,Model\n",
    "from keras.layers import Conv2D,MaxPooling2D,Dense,Flatten,Dropout,Concatenate,GlobalAveragePooling2D,Lambda,ZeroPadding2D\n",
    "import matplotlib.pylab as plot\n",
    "import pandas as pd\n",
    "%matplotlib inline\n",
    "import matplotlib.pylab as plt\n",
    "import seaborn as sns"
   ]
  },
  {
   "cell_type": "markdown",
   "metadata": {},
   "source": [
    "Setting some general values."
   ]
  },
  {
   "cell_type": "code",
   "execution_count": 4,
   "metadata": {},
   "outputs": [],
   "source": [
    "IMG_HEIGHT = 50\n",
    "IMG_WIDTH = 50\n",
    "\n",
    "BATCH_SIZE_TRAIN = 10\n",
    "BATCH_SIZE_VAL = 10\n",
    "EPOCHS = 20"
   ]
  },
  {
   "cell_type": "markdown",
   "metadata": {},
   "source": [
    "# Load the Images\n",
    "\n",
    "First we load the classified images."
   ]
  },
  {
   "cell_type": "code",
   "execution_count": 26,
   "metadata": {},
   "outputs": [
    {
     "name": "stdout",
     "output_type": "stream",
     "text": [
      "Found 4800 images belonging to 5 classes.\n",
      "Found 1200 images belonging to 5 classes.\n"
     ]
    }
   ],
   "source": [
    "dataset_dir = './dataset/'\n",
    "\n",
    "img_gen = ImageDataGenerator(\n",
    "    rescale = 1./255, # Rescale [0, 255] to [0, 1] because NN prefer smaller input\n",
    "    horizontal_flip = True, # Randomly flip inputs horizontally\n",
    "    vertical_flip = True, # Randomly flips inputs vertically\n",
    "    rotation_range=90,\n",
    "    height_shift_range = .2,\n",
    "    validation_split = 0.2 # mark  20% as belonging to the validation set\n",
    ")\n",
    "\n",
    "train_gen = img_gen.flow_from_directory(\n",
    "    dataset_dir,\n",
    "    batch_size=BATCH_SIZE_TRAIN,\n",
    "    shuffle = True,\n",
    "    target_size=(IMG_HEIGHT, IMG_WIDTH),\n",
    "    class_mode = 'categorical',\n",
    "    subset = 'training'\n",
    ")\n",
    "\n",
    "val_gen = img_gen.flow_from_directory(\n",
    "    dataset_dir,\n",
    "    batch_size=BATCH_SIZE_VAL,\n",
    "    shuffle = True,\n",
    "    target_size=(IMG_HEIGHT, IMG_WIDTH),\n",
    "    class_mode = 'categorical',\n",
    "    subset = 'validation'\n",
    ")\n"
   ]
  },
  {
   "cell_type": "markdown",
   "metadata": {},
   "source": [
    "We have 2188 images in total.\n",
    "They have now been split up in training and validation sets (that are strictly not overlapping)"
   ]
  },
  {
   "cell_type": "markdown",
   "metadata": {},
   "source": [
    "# Create the model\n",
    "\n",
    "This is the part that has to be optimized the most! (and isn't at all yet)"
   ]
  },
  {
   "cell_type": "code",
   "execution_count": 27,
   "metadata": {},
   "outputs": [],
   "source": [
    "model = Sequential([\n",
    "    Conv2D(16, 3, padding='same', activation='relu', input_shape=(IMG_HEIGHT, IMG_WIDTH, 3)),\n",
    "    MaxPooling2D(),\n",
    "    Conv2D(32, 3, padding='same', activation='relu'),\n",
    "    MaxPooling2D(),\n",
    "    Conv2D(64, 3, padding='same', activation='relu'),\n",
    "    MaxPooling2D(),\n",
    "    Conv2D(64, 3, padding='same', activation='relu'),\n",
    "    MaxPooling2D(),\n",
    "    Flatten(),\n",
    "    Dense(1024, activation='relu'),\n",
    "    Dense(5, activation='sigmoid')\n",
    "])"
   ]
  },
  {
   "cell_type": "markdown",
   "metadata": {},
   "source": [
    "# Compile the model"
   ]
  },
  {
   "cell_type": "code",
   "execution_count": 28,
   "metadata": {},
   "outputs": [
    {
     "name": "stdout",
     "output_type": "stream",
     "text": [
      "Model: \"sequential_4\"\n",
      "_________________________________________________________________\n",
      "Layer (type)                 Output Shape              Param #   \n",
      "=================================================================\n",
      "conv2d_13 (Conv2D)           (None, 50, 50, 16)        448       \n",
      "_________________________________________________________________\n",
      "max_pooling2d_13 (MaxPooling (None, 25, 25, 16)        0         \n",
      "_________________________________________________________________\n",
      "conv2d_14 (Conv2D)           (None, 25, 25, 32)        4640      \n",
      "_________________________________________________________________\n",
      "max_pooling2d_14 (MaxPooling (None, 12, 12, 32)        0         \n",
      "_________________________________________________________________\n",
      "conv2d_15 (Conv2D)           (None, 12, 12, 64)        18496     \n",
      "_________________________________________________________________\n",
      "max_pooling2d_15 (MaxPooling (None, 6, 6, 64)          0         \n",
      "_________________________________________________________________\n",
      "conv2d_16 (Conv2D)           (None, 6, 6, 64)          36928     \n",
      "_________________________________________________________________\n",
      "max_pooling2d_16 (MaxPooling (None, 3, 3, 64)          0         \n",
      "_________________________________________________________________\n",
      "flatten_4 (Flatten)          (None, 576)               0         \n",
      "_________________________________________________________________\n",
      "dense_7 (Dense)              (None, 1024)              590848    \n",
      "_________________________________________________________________\n",
      "dense_8 (Dense)              (None, 5)                 5125      \n",
      "=================================================================\n",
      "Total params: 656,485\n",
      "Trainable params: 656,485\n",
      "Non-trainable params: 0\n",
      "_________________________________________________________________\n"
     ]
    }
   ],
   "source": [
    "model.compile(\n",
    "    optimizer='adam',\n",
    "    loss='binary_crossentropy',\n",
    "    metrics=['accuracy']\n",
    ")\n",
    "\n",
    "model.summary()"
   ]
  },
  {
   "cell_type": "code",
   "execution_count": 29,
   "metadata": {},
   "outputs": [
    {
     "name": "stdout",
     "output_type": "stream",
     "text": [
      "Epoch 1/20\n",
      "10/10 [==============================] - 1s 146ms/step - loss: 0.5527 - accuracy: 0.7560 - val_loss: 0.5129 - val_accuracy: 0.8000\n",
      "Epoch 2/20\n",
      "10/10 [==============================] - 1s 115ms/step - loss: 0.5051 - accuracy: 0.8000 - val_loss: 0.4970 - val_accuracy: 0.8000\n",
      "Epoch 3/20\n",
      "10/10 [==============================] - 1s 117ms/step - loss: 0.5041 - accuracy: 0.8000 - val_loss: 0.4995 - val_accuracy: 0.8000\n",
      "Epoch 4/20\n",
      "10/10 [==============================] - 1s 114ms/step - loss: 0.4959 - accuracy: 0.8000 - val_loss: 0.4769 - val_accuracy: 0.8000\n",
      "Epoch 5/20\n",
      "10/10 [==============================] - 1s 116ms/step - loss: 0.5047 - accuracy: 0.8000 - val_loss: 0.4798 - val_accuracy: 0.8000\n",
      "Epoch 6/20\n",
      "10/10 [==============================] - 1s 116ms/step - loss: 0.4820 - accuracy: 0.8000 - val_loss: 0.4700 - val_accuracy: 0.8000\n",
      "Epoch 7/20\n",
      "10/10 [==============================] - 1s 105ms/step - loss: 0.4634 - accuracy: 0.8000 - val_loss: 0.4047 - val_accuracy: 0.8120\n",
      "Epoch 8/20\n",
      "10/10 [==============================] - 1s 118ms/step - loss: 0.4501 - accuracy: 0.8020 - val_loss: 0.3769 - val_accuracy: 0.8020\n",
      "Epoch 9/20\n",
      "10/10 [==============================] - 1s 131ms/step - loss: 0.3997 - accuracy: 0.8120 - val_loss: 0.3996 - val_accuracy: 0.7960\n",
      "Epoch 10/20\n",
      "10/10 [==============================] - 1s 120ms/step - loss: 0.4200 - accuracy: 0.8100 - val_loss: 0.3861 - val_accuracy: 0.8260\n",
      "Epoch 11/20\n",
      "10/10 [==============================] - 1s 129ms/step - loss: 0.3746 - accuracy: 0.8300 - val_loss: 0.3505 - val_accuracy: 0.8540\n",
      "Epoch 12/20\n",
      "10/10 [==============================] - 1s 103ms/step - loss: 0.2943 - accuracy: 0.8680 - val_loss: 0.2869 - val_accuracy: 0.8480\n",
      "Epoch 13/20\n",
      "10/10 [==============================] - 1s 125ms/step - loss: 0.3674 - accuracy: 0.8160 - val_loss: 0.1836 - val_accuracy: 0.8580\n",
      "Epoch 14/20\n",
      "10/10 [==============================] - 1s 111ms/step - loss: 0.3444 - accuracy: 0.8340 - val_loss: 0.2987 - val_accuracy: 0.8740\n",
      "Epoch 15/20\n",
      "10/10 [==============================] - 1s 116ms/step - loss: 0.2688 - accuracy: 0.8740 - val_loss: 0.2604 - val_accuracy: 0.8760\n",
      "Epoch 16/20\n",
      "10/10 [==============================] - 1s 122ms/step - loss: 0.2649 - accuracy: 0.9040 - val_loss: 0.2499 - val_accuracy: 0.8420\n",
      "Epoch 17/20\n",
      "10/10 [==============================] - 1s 117ms/step - loss: 0.2785 - accuracy: 0.8780 - val_loss: 0.3722 - val_accuracy: 0.8540\n",
      "Epoch 18/20\n",
      "10/10 [==============================] - 1s 105ms/step - loss: 0.2883 - accuracy: 0.8560 - val_loss: 0.4279 - val_accuracy: 0.8300\n",
      "Epoch 19/20\n",
      "10/10 [==============================] - 1s 127ms/step - loss: 0.3473 - accuracy: 0.8420 - val_loss: 0.3768 - val_accuracy: 0.8640\n",
      "Epoch 20/20\n",
      "10/10 [==============================] - 1s 116ms/step - loss: 0.2878 - accuracy: 0.8760 - val_loss: 0.2459 - val_accuracy: 0.9000\n"
     ]
    }
   ],
   "source": [
    "history = model.fit_generator(\n",
    "    train_gen,\n",
    "    steps_per_epoch=BATCH_SIZE_TRAIN,\n",
    "    epochs=EPOCHS,\n",
    "    validation_data=val_gen,\n",
    "    validation_steps=BATCH_SIZE_VAL\n",
    ")"
   ]
  },
  {
   "cell_type": "markdown",
   "metadata": {},
   "source": [
    "Evaluating the result"
   ]
  },
  {
   "cell_type": "code",
   "execution_count": 30,
   "metadata": {},
   "outputs": [
    {
     "name": "stdout",
     "output_type": "stream",
     "text": [
      "Model Test Loss: 0.20222365856170654\n",
      "Model Test Accuracy: 0.8999999761581421\n"
     ]
    }
   ],
   "source": [
    "scores = model.evaluate_generator(val_gen, steps=BATCH_SIZE_VAL)\n",
    "print(\"Model Test Loss:\" , scores[0])\n",
    "print(\"Model Test Accuracy:\", scores[1])"
   ]
  },
  {
   "cell_type": "markdown",
   "metadata": {},
   "source": [
    "# Saving the model\n",
    "\n",
    "We're using the SavedModel format as that also saves all of the weights "
   ]
  },
  {
   "cell_type": "code",
   "execution_count": 31,
   "metadata": {},
   "outputs": [],
   "source": [
    "model_name = \"akt-model\"\n",
    "\n",
    "model.save(model_name + \".h5\")\n",
    "# can be loaded again with\n",
    "# from keras.models import load_model\n",
    "# model = load_model(model_name + \".h5\")"
   ]
  },
  {
   "cell_type": "markdown",
   "metadata": {},
   "source": [
    "# Evaluating the model\n",
    "\n",
    "The following few steps will output different information about the model"
   ]
  },
  {
   "cell_type": "code",
   "execution_count": 32,
   "metadata": {},
   "outputs": [
    {
     "data": {
      "text/plain": [
       "[<matplotlib.lines.Line2D at 0x7fbca2c43630>]"
      ]
     },
     "execution_count": 32,
     "metadata": {},
     "output_type": "execute_result"
    },
    {
     "data": {
      "image/png": "[encoded data removed]",
      "text/plain": [
       "<Figure size 432x288 with 1 Axes>"
      ]
     },
     "metadata": {
      "needs_background": "light"
     },
     "output_type": "display_data"
    }
   ],
   "source": [
    "plot.plot(history.history['loss'])"
   ]
  },
  {
   "cell_type": "code",
   "execution_count": 33,
   "metadata": {},
   "outputs": [
    {
     "data": {
      "text/plain": [
       "[<matplotlib.lines.Line2D at 0x7fbcc8196cf8>]"
      ]
     },
     "execution_count": 33,
     "metadata": {},
     "output_type": "execute_result"
    },
    {
     "data": {
      "image/png": "[encoded data removed]",
      "text/plain": [
       "<Figure size 432x288 with 1 Axes>"
      ]
     },
     "metadata": {
      "needs_background": "light"
     },
     "output_type": "display_data"
    }
   ],
   "source": [
    "plot.plot(history.history['accuracy'])"
   ]
  },
  {
   "cell_type": "code",
   "execution_count": 34,
   "metadata": {
    "scrolled": true
   },
   "outputs": [
    {
     "data": {
      "image/png": "[encoded data removed]",
      "text/plain": [
       "<Figure size 360x360 with 2 Axes>"
      ]
     },
     "metadata": {
      "needs_background": "light"
     },
     "output_type": "display_data"
    }
   ],
   "source": [
    "predictions = model.predict_generator(val_gen)\n",
    "\n",
    "confusion_predicts = list(map(lambda p: np.argmax(p), predictions))\n",
    "\n",
    "con_mat = tf.math.confusion_matrix(val_gen.labels, confusion_predicts, 5).numpy()\n",
    "con_mat_norm = np.around(con_mat.astype('float') / con_mat.sum(axis=1)[:, np.newaxis], decimals=2)\n",
    "con_mat_df = pd.DataFrame(con_mat_norm, index = [0, 1, 2, 3, 4], columns = [0, 1, 2, 3, 4])\n",
    "plt.figure(figsize=(5, 5))\n",
    "sns.heatmap(con_mat_df, annot=True,cmap=plt.cm.YlGn)\n",
    "plt.ylabel('Actual')\n",
    "plt.xlabel('Predicted')\n",
    "plt.show()"
   ]
  },
  {
   "cell_type": "code",
   "execution_count": null,
   "metadata": {},
   "outputs": [],
   "source": []
  }
 ],
 "metadata": {
  "kernelspec": {
   "display_name": "Python 3",
   "language": "python",
   "name": "python3"
  },
  "language_info": {
   "codemirror_mode": {
    "name": "ipython",
    "version": 3
   },
   "file_extension": ".py",
   "mimetype": "text/x-python",
   "name": "python",
   "nbconvert_exporter": "python",
   "pygments_lexer": "ipython3",
   "version": "3.6.8"
  }
 },
 "nbformat": 4,
 "nbformat_minor": 2
}
