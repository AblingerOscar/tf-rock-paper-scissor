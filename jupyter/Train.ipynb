{
 "cells": [
  {
   "cell_type": "markdown",
   "metadata": {},
   "source": [
    "# Preparations\n",
    "\n",
    "Import various libraries: Mainly Tensorflow & Keras\n",
    "\n",
    "> **TODO: Remove unnecessary imports**"
   ]
  },
  {
   "cell_type": "code",
   "execution_count": 1,
   "metadata": {},
   "outputs": [
    {
     "name": "stderr",
     "output_type": "stream",
     "text": [
      "Using TensorFlow backend.\n"
     ]
    }
   ],
   "source": [
    "from keras.preprocessing.image import ImageDataGenerator\n",
    "from keras.models import Sequential,Input,Model\n",
    "from keras.layers import Conv2D,MaxPooling2D,Dense,Flatten,Dropout,Concatenate,GlobalAveragePooling2D,Lambda,ZeroPadding2D"
   ]
  },
  {
   "cell_type": "markdown",
   "metadata": {},
   "source": [
    "Setting some general values."
   ]
  },
  {
   "cell_type": "code",
   "execution_count": 2,
   "metadata": {},
   "outputs": [],
   "source": [
    "IMG_HEIGHT = 200 # original is 300\n",
    "IMG_WIDTH = 200\n",
    "\n",
    "BATCH_SIZE_TRAIN = 10\n",
    "BATCH_SIZE_VAL = 10\n",
    "EPOCHS = 20"
   ]
  },
  {
   "cell_type": "markdown",
   "metadata": {},
   "source": [
    "# Load the Images\n",
    "\n",
    "First we load the classified images."
   ]
  },
  {
   "cell_type": "code",
   "execution_count": 3,
   "metadata": {},
   "outputs": [
    {
     "name": "stdout",
     "output_type": "stream",
     "text": [
      "Found 1751 images belonging to 3 classes.\n",
      "Found 437 images belonging to 3 classes.\n"
     ]
    }
   ],
   "source": [
    "dataset_dir = './dataset/'\n",
    "\n",
    "img_gen = ImageDataGenerator(\n",
    "    rescale = 1./255, # Rescale [0, 255] to [0, 1] because NN prefer smaller input\n",
    "    horizontal_flip = True, # Randomly flip inputs horizontally\n",
    "    vertical_flip = True, # Randomly flips inputs vertically\n",
    "    height_shift_range = .2,\n",
    "    validation_split = 0.2 # mark  20% as belonging to the validation set\n",
    ")\n",
    "\n",
    "train_gen = img_gen.flow_from_directory(\n",
    "    dataset_dir,\n",
    "    batch_size=BATCH_SIZE_TRAIN,\n",
    "    shuffle = True,\n",
    "    target_size=(IMG_HEIGHT, IMG_WIDTH),\n",
    "    class_mode = 'categorical',\n",
    "    subset = 'training'\n",
    ")\n",
    "\n",
    "val_gen = img_gen.flow_from_directory(\n",
    "    dataset_dir,\n",
    "    batch_size=BATCH_SIZE_VAL,\n",
    "    shuffle = True,\n",
    "    target_size=(IMG_HEIGHT, IMG_WIDTH),\n",
    "    class_mode = 'categorical',\n",
    "    subset = 'validation'\n",
    ")\n",
    "\n",
    "# print(train_gen[0])\n"
   ]
  },
  {
   "cell_type": "markdown",
   "metadata": {},
   "source": [
    "We have 2188 images in total.\n",
    "They have now been split up in training and validation sets (that are strictly not overlapping)"
   ]
  },
  {
   "cell_type": "markdown",
   "metadata": {},
   "source": [
    "# Create the model\n",
    "\n",
    "This is the part that has to be optimized the most! (and isn't at all yet)"
   ]
  },
  {
   "cell_type": "code",
   "execution_count": 4,
   "metadata": {},
   "outputs": [],
   "source": [
    "model = Sequential([\n",
    "    Conv2D(16, 3, padding='same', activation='relu', input_shape=(IMG_HEIGHT, IMG_WIDTH, 3)),\n",
    "    MaxPooling2D(),\n",
    "    Conv2D(32, 3, padding='same', activation='relu'),\n",
    "    MaxPooling2D(),\n",
    "    Conv2D(64, 3, padding='same', activation='relu'),\n",
    "    MaxPooling2D(),\n",
    "    Conv2D(64, 3, padding='same', activation='relu'),\n",
    "    MaxPooling2D(),\n",
    "    Flatten(),\n",
    "    Dense(1024, activation='relu'),\n",
    "    Dense(3, activation='sigmoid')\n",
    "])"
   ]
  },
  {
   "cell_type": "markdown",
   "metadata": {},
   "source": [
    "# Compile the model"
   ]
  },
  {
   "cell_type": "code",
   "execution_count": 5,
   "metadata": {},
   "outputs": [
    {
     "name": "stdout",
     "output_type": "stream",
     "text": [
      "Model: \"sequential_1\"\n",
      "_________________________________________________________________\n",
      "Layer (type)                 Output Shape              Param #   \n",
      "=================================================================\n",
      "conv2d_1 (Conv2D)            (None, 200, 200, 16)      448       \n",
      "_________________________________________________________________\n",
      "max_pooling2d_1 (MaxPooling2 (None, 100, 100, 16)      0         \n",
      "_________________________________________________________________\n",
      "conv2d_2 (Conv2D)            (None, 100, 100, 32)      4640      \n",
      "_________________________________________________________________\n",
      "max_pooling2d_2 (MaxPooling2 (None, 50, 50, 32)        0         \n",
      "_________________________________________________________________\n",
      "conv2d_3 (Conv2D)            (None, 50, 50, 64)        18496     \n",
      "_________________________________________________________________\n",
      "max_pooling2d_3 (MaxPooling2 (None, 25, 25, 64)        0         \n",
      "_________________________________________________________________\n",
      "conv2d_4 (Conv2D)            (None, 25, 25, 64)        36928     \n",
      "_________________________________________________________________\n",
      "max_pooling2d_4 (MaxPooling2 (None, 12, 12, 64)        0         \n",
      "_________________________________________________________________\n",
      "flatten_1 (Flatten)          (None, 9216)              0         \n",
      "_________________________________________________________________\n",
      "dense_1 (Dense)              (None, 1024)              9438208   \n",
      "_________________________________________________________________\n",
      "dense_2 (Dense)              (None, 3)                 3075      \n",
      "=================================================================\n",
      "Total params: 9,501,795\n",
      "Trainable params: 9,501,795\n",
      "Non-trainable params: 0\n",
      "_________________________________________________________________\n"
     ]
    }
   ],
   "source": [
    "model.compile(\n",
    "    optimizer='adam',\n",
    "    loss='binary_crossentropy',\n",
    "    metrics=['accuracy']\n",
    ")\n",
    "\n",
    "model.summary()"
   ]
  },
  {
   "cell_type": "code",
   "execution_count": 6,
   "metadata": {},
   "outputs": [
    {
     "name": "stdout",
     "output_type": "stream",
     "text": [
      "Epoch 1/20\n",
      "10/10 [==============================] - 8s 823ms/step - loss: 0.7243 - accuracy: 0.6167 - val_loss: 0.6434 - val_accuracy: 0.6667\n",
      "Epoch 2/20\n",
      "10/10 [==============================] - 7s 662ms/step - loss: 0.6432 - accuracy: 0.6667 - val_loss: 0.6134 - val_accuracy: 0.6667\n",
      "Epoch 3/20\n",
      "10/10 [==============================] - 7s 694ms/step - loss: 0.6335 - accuracy: 0.6667 - val_loss: 0.6194 - val_accuracy: 0.6667\n",
      "Epoch 4/20\n",
      "10/10 [==============================] - 7s 664ms/step - loss: 0.6427 - accuracy: 0.6767 - val_loss: 0.5897 - val_accuracy: 0.5833\n",
      "Epoch 5/20\n",
      "10/10 [==============================] - 7s 699ms/step - loss: 0.6428 - accuracy: 0.6500 - val_loss: 0.6554 - val_accuracy: 0.6667\n",
      "Epoch 6/20\n",
      "10/10 [==============================] - 7s 726ms/step - loss: 0.6353 - accuracy: 0.6667 - val_loss: 0.6296 - val_accuracy: 0.6667\n",
      "Epoch 7/20\n",
      "10/10 [==============================] - 7s 687ms/step - loss: 0.6233 - accuracy: 0.6667 - val_loss: 0.6271 - val_accuracy: 0.6633\n",
      "Epoch 8/20\n",
      "10/10 [==============================] - 7s 705ms/step - loss: 0.5953 - accuracy: 0.6700 - val_loss: 0.6288 - val_accuracy: 0.7133\n",
      "Epoch 9/20\n",
      "10/10 [==============================] - 7s 660ms/step - loss: 0.5664 - accuracy: 0.6967 - val_loss: 0.5753 - val_accuracy: 0.7079\n",
      "Epoch 10/20\n",
      "10/10 [==============================] - 7s 736ms/step - loss: 0.5048 - accuracy: 0.7533 - val_loss: 0.3521 - val_accuracy: 0.8400\n",
      "Epoch 11/20\n",
      "10/10 [==============================] - 7s 690ms/step - loss: 0.4184 - accuracy: 0.8233 - val_loss: 0.2144 - val_accuracy: 0.8833\n",
      "Epoch 12/20\n",
      "10/10 [==============================] - 7s 699ms/step - loss: 0.3596 - accuracy: 0.8167 - val_loss: 0.2714 - val_accuracy: 0.8600\n",
      "Epoch 13/20\n",
      "10/10 [==============================] - 7s 663ms/step - loss: 0.2838 - accuracy: 0.8900 - val_loss: 0.3607 - val_accuracy: 0.8500\n",
      "Epoch 14/20\n",
      "10/10 [==============================] - 7s 702ms/step - loss: 0.2587 - accuracy: 0.9000 - val_loss: 0.1240 - val_accuracy: 0.8625\n",
      "Epoch 15/20\n",
      "10/10 [==============================] - 7s 738ms/step - loss: 0.3198 - accuracy: 0.8700 - val_loss: 0.3343 - val_accuracy: 0.9167\n",
      "Epoch 16/20\n",
      "10/10 [==============================] - 7s 689ms/step - loss: 0.1760 - accuracy: 0.9567 - val_loss: 0.1912 - val_accuracy: 0.9033\n",
      "Epoch 17/20\n",
      "10/10 [==============================] - 7s 692ms/step - loss: 0.2591 - accuracy: 0.9033 - val_loss: 0.1464 - val_accuracy: 0.9100\n",
      "Epoch 18/20\n",
      "10/10 [==============================] - 7s 705ms/step - loss: 0.2334 - accuracy: 0.9000 - val_loss: 0.2383 - val_accuracy: 0.9107\n",
      "Epoch 19/20\n",
      "10/10 [==============================] - 7s 747ms/step - loss: 0.1844 - accuracy: 0.9233 - val_loss: 0.2290 - val_accuracy: 0.9067\n",
      "Epoch 20/20\n",
      "10/10 [==============================] - 7s 697ms/step - loss: 0.2683 - accuracy: 0.9067 - val_loss: 0.1709 - val_accuracy: 0.8500\n"
     ]
    }
   ],
   "source": [
    "history = model.fit_generator(\n",
    "    train_gen,\n",
    "    steps_per_epoch=BATCH_SIZE_TRAIN,\n",
    "    epochs=EPOCHS,\n",
    "    validation_data=val_gen,\n",
    "    validation_steps=BATCH_SIZE_VAL\n",
    ")"
   ]
  },
  {
   "cell_type": "markdown",
   "metadata": {},
   "source": [
    "Evaluating the result"
   ]
  },
  {
   "cell_type": "code",
   "execution_count": 7,
   "metadata": {},
   "outputs": [
    {
     "name": "stdout",
     "output_type": "stream",
     "text": [
      "Model Test Loss: 0.1734922230243683\n",
      "Model Test Accuracy: 0.856666624546051\n"
     ]
    }
   ],
   "source": [
    "scores = model.evaluate_generator(val_gen, steps=BATCH_SIZE_VAL)\n",
    "print(\"Model Test Loss:\" , scores[0])\n",
    "print(\"Model Test Accuracy:\", scores[1])"
   ]
  },
  {
   "cell_type": "markdown",
   "metadata": {},
   "source": [
    "# Saving the model\n",
    "\n",
    "We're using the SavedModel format as that also saves all of the weights "
   ]
  },
  {
   "cell_type": "code",
   "execution_count": 8,
   "metadata": {},
   "outputs": [],
   "source": [
    "model_name = \"akt-model\"\n",
    "\n",
    "model.save(model_name + \".h5\")\n",
    "# can be loaded again with\n",
    "# from keras.models import load_model\n",
    "# model = load_model(model_name + \".h5\")"
   ]
  }
 ],
 "metadata": {
  "kernelspec": {
   "display_name": "Python 3",
   "language": "python",
   "name": "python3"
  },
  "language_info": {
   "codemirror_mode": {
    "name": "ipython",
    "version": 3
   },
   "file_extension": ".py",
   "mimetype": "text/x-python",
   "name": "python",
   "nbconvert_exporter": "python",
   "pygments_lexer": "ipython3",
   "version": "3.6.8"
  }
 },
 "nbformat": 4,
 "nbformat_minor": 2
}
