{
 "cells": [
  {
   "cell_type": "markdown",
   "metadata": {},
   "source": [
    "# Preparations\n",
    "\n",
    "Import various libraries: Mainly Tensorflow & Keras\n",
    "\n",
    "> **TODO: Remove unnecessary imports**"
   ]
  },
  {
   "cell_type": "code",
   "execution_count": 2,
   "metadata": {},
   "outputs": [
    {
     "name": "stderr",
     "output_type": "stream",
     "text": [
      "Using TensorFlow backend.\n"
     ]
    }
   ],
   "source": [
    "from keras.preprocessing.image import ImageDataGenerator\n",
    "from keras.models import Sequential,Input,Model\n",
    "from keras.layers import Conv2D,MaxPooling2D,Dense,Flatten,Dropout,Concatenate,GlobalAveragePooling2D,Lambda,ZeroPadding2D"
   ]
  },
  {
   "cell_type": "markdown",
   "metadata": {},
   "source": [
    "Setting some general values."
   ]
  },
  {
   "cell_type": "code",
   "execution_count": 3,
   "metadata": {},
   "outputs": [],
   "source": [
    "IMG_HEIGHT = 200 # original is 300\n",
    "IMG_WIDTH = 200\n",
    "\n",
    "BATCH_SIZE_TRAIN = 2\n",
    "BATCH_SIZE_VAL = 2\n",
    "EPOCHS = 2"
   ]
  },
  {
   "cell_type": "markdown",
   "metadata": {},
   "source": [
    "# Load the Images\n",
    "\n",
    "First we load the classified images."
   ]
  },
  {
   "cell_type": "code",
   "execution_count": 4,
   "metadata": {},
   "outputs": [
    {
     "name": "stdout",
     "output_type": "stream",
     "text": [
      "Found 1751 images belonging to 3 classes.\n",
      "Found 437 images belonging to 3 classes.\n",
      "(array([[[[0.10466022, 0.4817419 , 0.17585953],\n",
      "         [0.09803922, 0.4784314 , 0.17254902],\n",
      "         [0.09803922, 0.48235297, 0.18431373],\n",
      "         ...,\n",
      "         [0.6156863 , 0.4666667 , 0.32156864],\n",
      "         [0.6223073 , 0.4732877 , 0.32818964],\n",
      "         [0.63015044, 0.48444134, 0.33934328]],\n",
      "\n",
      "        [[0.10919286, 0.48566347, 0.1797811 ],\n",
      "         [0.09472872, 0.4751209 , 0.16923854],\n",
      "         [0.09472872, 0.47904247, 0.18100324],\n",
      "         ...,\n",
      "         [0.6322388 , 0.48652968, 0.34143165],\n",
      "         [0.63015044, 0.48444134, 0.33934328],\n",
      "         [0.6413041 , 0.49289554, 0.34779748]],\n",
      "\n",
      "        [[0.10318293, 0.48958504, 0.18701316],\n",
      "         [0.09742815, 0.48113084, 0.18186946],\n",
      "         [0.09742815, 0.4817419 , 0.18370266],\n",
      "         ...,\n",
      "         [0.63529414, 0.4901961 , 0.33847708],\n",
      "         [0.6413041 , 0.49289554, 0.34117648],\n",
      "         [0.6497583 , 0.49742818, 0.33908814]],\n",
      "\n",
      "        ...,\n",
      "\n",
      "        [[0.10196079, 0.46274513, 0.16470589],\n",
      "         [0.10196079, 0.46274513, 0.15686275],\n",
      "         [0.10588236, 0.4666667 , 0.16862746],\n",
      "         ...,\n",
      "         [0.12156864, 0.48235297, 0.17254902],\n",
      "         [0.1254902 , 0.48627454, 0.1764706 ],\n",
      "         [0.1254902 , 0.4784314 , 0.18039216]],\n",
      "\n",
      "        [[0.10196079, 0.46274513, 0.16470589],\n",
      "         [0.10196079, 0.46274513, 0.15686275],\n",
      "         [0.10588236, 0.4666667 , 0.16862746],\n",
      "         ...,\n",
      "         [0.12156864, 0.48235297, 0.17254902],\n",
      "         [0.1254902 , 0.48627454, 0.1764706 ],\n",
      "         [0.1254902 , 0.4784314 , 0.18039216]],\n",
      "\n",
      "        [[0.10196079, 0.46274513, 0.16470589],\n",
      "         [0.10196079, 0.46274513, 0.15686275],\n",
      "         [0.10588236, 0.4666667 , 0.16862746],\n",
      "         ...,\n",
      "         [0.12156864, 0.48235297, 0.17254902],\n",
      "         [0.1254902 , 0.48627454, 0.1764706 ],\n",
      "         [0.1254902 , 0.4784314 , 0.18039216]]],\n",
      "\n",
      "\n",
      "       [[[0.03529412, 0.3137255 , 0.01176471],\n",
      "         [0.03137255, 0.33333334, 0.01568628],\n",
      "         [0.03137255, 0.33333334, 0.01568628],\n",
      "         ...,\n",
      "         [0.09411766, 0.48235297, 0.12156864],\n",
      "         [0.09411766, 0.48235297, 0.12156864],\n",
      "         [0.09019608, 0.4666667 , 0.11764707]],\n",
      "\n",
      "        [[0.03529412, 0.3137255 , 0.01176471],\n",
      "         [0.03137255, 0.33333334, 0.01568628],\n",
      "         [0.03137255, 0.33333334, 0.01568628],\n",
      "         ...,\n",
      "         [0.09411766, 0.48235297, 0.12156864],\n",
      "         [0.09411766, 0.48235297, 0.12156864],\n",
      "         [0.09019608, 0.4666667 , 0.11764707]],\n",
      "\n",
      "        [[0.03529412, 0.3137255 , 0.01176471],\n",
      "         [0.03137255, 0.33333334, 0.01568628],\n",
      "         [0.03137255, 0.33333334, 0.01568628],\n",
      "         ...,\n",
      "         [0.09411766, 0.48235297, 0.12156864],\n",
      "         [0.09411766, 0.48235297, 0.12156864],\n",
      "         [0.09019608, 0.4666667 , 0.11764707]],\n",
      "\n",
      "        ...,\n",
      "\n",
      "        [[0.05044815, 0.3563305 , 0.05018202],\n",
      "         [0.06247898, 0.37593836, 0.05829129],\n",
      "         [0.07005599, 0.37985992, 0.06221285],\n",
      "         ...,\n",
      "         [0.12575634, 0.49830538, 0.11399162],\n",
      "         [0.12575634, 0.49464995, 0.11399162],\n",
      "         [0.12156864, 0.47450984, 0.10588236]],\n",
      "\n",
      "        [[0.05463584, 0.36417365, 0.05463584],\n",
      "         [0.0627451 , 0.38012606, 0.05882353],\n",
      "         [0.0669328 , 0.38404763, 0.0627451 ],\n",
      "         ...,\n",
      "         [0.12183475, 0.4870729 , 0.10641461],\n",
      "         [0.12183475, 0.4868068 , 0.10641461],\n",
      "         [0.11791319, 0.47816527, 0.10588236]],\n",
      "\n",
      "        [[0.05490196, 0.3647059 , 0.05490196],\n",
      "         [0.0627451 , 0.3803922 , 0.05882353],\n",
      "         [0.06666667, 0.38431376, 0.0627451 ],\n",
      "         ...,\n",
      "         [0.12156864, 0.48627454, 0.10588236],\n",
      "         [0.12156864, 0.48627454, 0.10588236],\n",
      "         [0.11764707, 0.4784314 , 0.10588236]]]], dtype=float32), array([[0., 1., 0.],\n",
      "       [0., 1., 0.]], dtype=float32))\n"
     ]
    }
   ],
   "source": [
    "dataset_dir = './dataset/'\n",
    "\n",
    "img_gen = ImageDataGenerator(\n",
    "    rescale = 1./255, # Rescale [0, 255] to [0, 1] because NN prefer smaller input\n",
    "    horizontal_flip = True, # Randomly flip inputs horizontally\n",
    "    vertical_flip = True, # Randomly flips inputs vertically\n",
    "    height_shift_range = .2,\n",
    "    validation_split = 0.2 # mark  20% as belonging to the validation set\n",
    ")\n",
    "\n",
    "train_gen = img_gen.flow_from_directory(\n",
    "    dataset_dir,\n",
    "    batch_size=BATCH_SIZE_TRAIN,\n",
    "    shuffle = True,\n",
    "    target_size=(IMG_HEIGHT, IMG_WIDTH),\n",
    "    class_mode = 'categorical',\n",
    "    subset = 'training'\n",
    ")\n",
    "\n",
    "val_gen = img_gen.flow_from_directory(\n",
    "    dataset_dir,\n",
    "    batch_size=BATCH_SIZE_VAL,\n",
    "    shuffle = True,\n",
    "    target_size=(IMG_HEIGHT, IMG_WIDTH),\n",
    "    class_mode = 'categorical',\n",
    "    subset = 'validation'\n",
    ")\n",
    "\n",
    "print(train_gen[0])\n"
   ]
  },
  {
   "cell_type": "markdown",
   "metadata": {},
   "source": [
    "We have 2188 images in total.\n",
    "They have now been split up in training and validation sets (that are strictly not overlapping)"
   ]
  },
  {
   "cell_type": "markdown",
   "metadata": {},
   "source": [
    "# Create the model\n",
    "\n",
    "This is the part that has to be optimized the most! (and isn't at all yet)"
   ]
  },
  {
   "cell_type": "code",
   "execution_count": 21,
   "metadata": {},
   "outputs": [],
   "source": [
    "model = Sequential([\n",
    "    Conv2D(16, 3, padding='same', activation='relu', input_shape=(IMG_HEIGHT, IMG_WIDTH, 3)),\n",
    "    MaxPooling2D(),\n",
    "    Conv2D(32, 3, padding='same', activation='relu'),\n",
    "    MaxPooling2D(),\n",
    "    Conv2D(64, 3, padding='same', activation='relu'),\n",
    "    MaxPooling2D(),\n",
    "    Flatten(),\n",
    "    Dense(512, activation='relu'),\n",
    "    Dense(3, activation='sigmoid')\n",
    "])"
   ]
  },
  {
   "cell_type": "markdown",
   "metadata": {},
   "source": [
    "# Compile the model"
   ]
  },
  {
   "cell_type": "code",
   "execution_count": 22,
   "metadata": {},
   "outputs": [
    {
     "name": "stdout",
     "output_type": "stream",
     "text": [
      "Model: \"sequential_3\"\n",
      "_________________________________________________________________\n",
      "Layer (type)                 Output Shape              Param #   \n",
      "=================================================================\n",
      "conv2d_7 (Conv2D)            (None, 200, 200, 16)      448       \n",
      "_________________________________________________________________\n",
      "max_pooling2d_7 (MaxPooling2 (None, 100, 100, 16)      0         \n",
      "_________________________________________________________________\n",
      "conv2d_8 (Conv2D)            (None, 100, 100, 32)      4640      \n",
      "_________________________________________________________________\n",
      "max_pooling2d_8 (MaxPooling2 (None, 50, 50, 32)        0         \n",
      "_________________________________________________________________\n",
      "conv2d_9 (Conv2D)            (None, 50, 50, 64)        18496     \n",
      "_________________________________________________________________\n",
      "max_pooling2d_9 (MaxPooling2 (None, 25, 25, 64)        0         \n",
      "_________________________________________________________________\n",
      "flatten_3 (Flatten)          (None, 40000)             0         \n",
      "_________________________________________________________________\n",
      "dense_5 (Dense)              (None, 512)               20480512  \n",
      "_________________________________________________________________\n",
      "dense_6 (Dense)              (None, 3)                 1539      \n",
      "=================================================================\n",
      "Total params: 20,505,635\n",
      "Trainable params: 20,505,635\n",
      "Non-trainable params: 0\n",
      "_________________________________________________________________\n"
     ]
    }
   ],
   "source": [
    "model.compile(\n",
    "    optimizer='adam',\n",
    "    loss='binary_crossentropy',\n",
    "    metrics=['accuracy']\n",
    ")\n",
    "\n",
    "model.summary()"
   ]
  },
  {
   "cell_type": "code",
   "execution_count": 23,
   "metadata": {},
   "outputs": [
    {
     "name": "stdout",
     "output_type": "stream",
     "text": [
      "Epoch 1/2\n",
      "2/2 [==============================] - 1s 444ms/step - loss: 0.5498 - accuracy: 0.6667 - val_loss: 2.0117 - val_accuracy: 0.6667\n",
      "Epoch 2/2\n",
      "2/2 [==============================] - 1s 363ms/step - loss: 2.5336 - accuracy: 0.3333 - val_loss: 0.7895 - val_accuracy: 0.6667\n"
     ]
    }
   ],
   "source": [
    "history = model.fit_generator(\n",
    "    train_gen,\n",
    "    steps_per_epoch=BATCH_SIZE_TRAIN,\n",
    "    epochs=EPOCHS,\n",
    "    validation_data=val_gen,\n",
    "    validation_steps=BATCH_SIZE_VAL\n",
    ")"
   ]
  },
  {
   "cell_type": "markdown",
   "metadata": {},
   "source": [
    "Evaluating the result"
   ]
  },
  {
   "cell_type": "code",
   "execution_count": 24,
   "metadata": {},
   "outputs": [
    {
     "name": "stdout",
     "output_type": "stream",
     "text": [
      "Model Test Loss: 0.9187431335449219\n",
      "Model Test Accuracy: 0.6666666865348816\n"
     ]
    }
   ],
   "source": [
    "scores = model.evaluate_generator(val_gen, steps=BATCH_SIZE_VAL)\n",
    "print(\"Model Test Loss:\" , scores[0])\n",
    "print(\"Model Test Accuracy:\", scores[1])"
   ]
  },
  {
   "cell_type": "markdown",
   "metadata": {},
   "source": [
    "# Saving the model\n",
    "\n",
    "We're using the SavedModel format as that also saves all of the weights "
   ]
  },
  {
   "cell_type": "code",
   "execution_count": 27,
   "metadata": {},
   "outputs": [
    {
     "name": "stdout",
     "output_type": "stream",
     "text": [
      "[[0.11827085 0.1647515  0.0332455 ]\n",
      " [0.12331837 0.13666241 0.02759341]\n",
      " [0.11325223 0.17751849 0.03311683]\n",
      " ...\n",
      " [0.09788693 0.13223208 0.01967652]\n",
      " [0.11063512 0.15946276 0.01858083]\n",
      " [0.10527228 0.14743868 0.02171037]]\n"
     ]
    }
   ],
   "source": [
    "model_name = \"akt-model\"\n",
    "\n",
    "#model.save(model_name + \".h5\")\n",
    "\n",
    "predictions = model.predict(train_gen)\n",
    "\n",
    "print(predictions)\n",
    "# test\n",
    "\n",
    "# can be loaded again with\n",
    "# from keras.models import load_model\n",
    "# model = load_model(model_name + \".h5\")"
   ]
  }
 ],
 "metadata": {
  "kernelspec": {
   "display_name": "Python 3",
   "language": "python",
   "name": "python3"
  },
  "language_info": {
   "codemirror_mode": {
    "name": "ipython",
    "version": 3
   },
   "file_extension": ".py",
   "mimetype": "text/x-python",
   "name": "python",
   "nbconvert_exporter": "python",
   "pygments_lexer": "ipython3",
   "version": "3.6.8"
  }
 },
 "nbformat": 4,
 "nbformat_minor": 2
}
