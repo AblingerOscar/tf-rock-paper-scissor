{
 "cells": [
  {
   "cell_type": "markdown",
   "metadata": {},
   "source": [
    "# Preparations\n",
    "\n",
    "Import various libraries: Mainly Tensorflow & Keras\n",
    "\n",
    "> **TODO: Remove unnecessary imports**"
   ]
  },
  {
   "cell_type": "code",
   "execution_count": 1,
   "metadata": {},
   "outputs": [
    {
     "name": "stderr",
     "output_type": "stream",
     "text": [
      "Using TensorFlow backend.\n"
     ]
    }
   ],
   "source": [
    "import tensorflow as tf\n",
    "import numpy as np\n",
    "from keras.preprocessing.image import ImageDataGenerator\n",
    "from keras.models import Sequential,Input,Model\n",
    "from keras.layers import Conv2D,MaxPooling2D,Dense,Flatten,Dropout,Concatenate,GlobalAveragePooling2D,Lambda,ZeroPadding2D\n",
    "import matplotlib.pylab as plot\n",
    "import pandas as pd\n",
    "%matplotlib inline\n",
    "import matplotlib.pylab as plt\n",
    "import seaborn as sns"
   ]
  },
  {
   "cell_type": "markdown",
   "metadata": {},
   "source": [
    "Setting some general values."
   ]
  },
  {
   "cell_type": "code",
   "execution_count": 2,
   "metadata": {},
   "outputs": [],
   "source": [
    "IMG_HEIGHT = 200 # original is 300\n",
    "IMG_WIDTH = 200\n",
    "\n",
    "BATCH_SIZE_TRAIN = 10\n",
    "BATCH_SIZE_VAL = 10\n",
    "EPOCHS = 20"
   ]
  },
  {
   "cell_type": "markdown",
   "metadata": {},
   "source": [
    "# Load the Images\n",
    "\n",
    "First we load the classified images."
   ]
  },
  {
   "cell_type": "code",
   "execution_count": 3,
   "metadata": {},
   "outputs": [
    {
     "name": "stdout",
     "output_type": "stream",
     "text": [
      "Found 1751 images belonging to 3 classes.\n",
      "Found 437 images belonging to 3 classes.\n"
     ]
    }
   ],
   "source": [
    "dataset_dir = './dataset/'\n",
    "\n",
    "img_gen = ImageDataGenerator(\n",
    "    rescale = 1./255, # Rescale [0, 255] to [0, 1] because NN prefer smaller input\n",
    "    horizontal_flip = True, # Randomly flip inputs horizontally\n",
    "    vertical_flip = True, # Randomly flips inputs vertically\n",
    "    height_shift_range = .2,\n",
    "    validation_split = 0.2 # mark  20% as belonging to the validation set\n",
    ")\n",
    "\n",
    "train_gen = img_gen.flow_from_directory(\n",
    "    dataset_dir,\n",
    "    batch_size=BATCH_SIZE_TRAIN,\n",
    "    shuffle = True,\n",
    "    target_size=(IMG_HEIGHT, IMG_WIDTH),\n",
    "    class_mode = 'categorical',\n",
    "    subset = 'training'\n",
    ")\n",
    "\n",
    "val_gen = img_gen.flow_from_directory(\n",
    "    dataset_dir,\n",
    "    batch_size=BATCH_SIZE_VAL,\n",
    "    shuffle = True,\n",
    "    target_size=(IMG_HEIGHT, IMG_WIDTH),\n",
    "    class_mode = 'categorical',\n",
    "    subset = 'validation'\n",
    ")\n",
    "\n",
    "# print(train_gen[0])\n"
   ]
  },
  {
   "cell_type": "markdown",
   "metadata": {},
   "source": [
    "We have 2188 images in total.\n",
    "They have now been split up in training and validation sets (that are strictly not overlapping)"
   ]
  },
  {
   "cell_type": "markdown",
   "metadata": {},
   "source": [
    "# Create the model\n",
    "\n",
    "This is the part that has to be optimized the most! (and isn't at all yet)"
   ]
  },
  {
   "cell_type": "code",
   "execution_count": 4,
   "metadata": {},
   "outputs": [],
   "source": [
    "model = Sequential([\n",
    "    Conv2D(16, 3, padding='same', activation='relu', input_shape=(IMG_HEIGHT, IMG_WIDTH, 3)),\n",
    "    MaxPooling2D(),\n",
    "    Conv2D(32, 3, padding='same', activation='relu'),\n",
    "    MaxPooling2D(),\n",
    "    Conv2D(64, 3, padding='same', activation='relu'),\n",
    "    MaxPooling2D(),\n",
    "    Conv2D(64, 3, padding='same', activation='relu'),\n",
    "    MaxPooling2D(),\n",
    "    Flatten(),\n",
    "    Dense(1024, activation='relu'),\n",
    "    Dense(3, activation='sigmoid')\n",
    "])"
   ]
  },
  {
   "cell_type": "markdown",
   "metadata": {},
   "source": [
    "# Compile the model"
   ]
  },
  {
   "cell_type": "code",
   "execution_count": 5,
   "metadata": {},
   "outputs": [
    {
     "name": "stdout",
     "output_type": "stream",
     "text": [
      "Model: \"sequential_1\"\n",
      "_________________________________________________________________\n",
      "Layer (type)                 Output Shape              Param #   \n",
      "=================================================================\n",
      "conv2d_1 (Conv2D)            (None, 200, 200, 16)      448       \n",
      "_________________________________________________________________\n",
      "max_pooling2d_1 (MaxPooling2 (None, 100, 100, 16)      0         \n",
      "_________________________________________________________________\n",
      "conv2d_2 (Conv2D)            (None, 100, 100, 32)      4640      \n",
      "_________________________________________________________________\n",
      "max_pooling2d_2 (MaxPooling2 (None, 50, 50, 32)        0         \n",
      "_________________________________________________________________\n",
      "conv2d_3 (Conv2D)            (None, 50, 50, 64)        18496     \n",
      "_________________________________________________________________\n",
      "max_pooling2d_3 (MaxPooling2 (None, 25, 25, 64)        0         \n",
      "_________________________________________________________________\n",
      "conv2d_4 (Conv2D)            (None, 25, 25, 64)        36928     \n",
      "_________________________________________________________________\n",
      "max_pooling2d_4 (MaxPooling2 (None, 12, 12, 64)        0         \n",
      "_________________________________________________________________\n",
      "flatten_1 (Flatten)          (None, 9216)              0         \n",
      "_________________________________________________________________\n",
      "dense_1 (Dense)              (None, 1024)              9438208   \n",
      "_________________________________________________________________\n",
      "dense_2 (Dense)              (None, 3)                 3075      \n",
      "=================================================================\n",
      "Total params: 9,501,795\n",
      "Trainable params: 9,501,795\n",
      "Non-trainable params: 0\n",
      "_________________________________________________________________\n"
     ]
    }
   ],
   "source": [
    "model.compile(\n",
    "    optimizer='adam',\n",
    "    loss='binary_crossentropy',\n",
    "    metrics=['accuracy']\n",
    ")\n",
    "\n",
    "model.summary()"
   ]
  },
  {
   "cell_type": "code",
   "execution_count": 6,
   "metadata": {},
   "outputs": [
    {
     "name": "stdout",
     "output_type": "stream",
     "text": [
      "Epoch 1/20\n",
      "10/10 [==============================] - 6s 630ms/step - loss: 0.6677 - accuracy: 0.6400 - val_loss: 0.6104 - val_accuracy: 0.6667\n",
      "Epoch 2/20\n",
      "10/10 [==============================] - 5s 534ms/step - loss: 0.6289 - accuracy: 0.6667 - val_loss: 0.6349 - val_accuracy: 0.7000\n",
      "Epoch 3/20\n",
      "10/10 [==============================] - 5s 527ms/step - loss: 0.5879 - accuracy: 0.7033 - val_loss: 0.4857 - val_accuracy: 0.7333\n",
      "Epoch 4/20\n",
      "10/10 [==============================] - 5s 507ms/step - loss: 0.5410 - accuracy: 0.7179 - val_loss: 0.4520 - val_accuracy: 0.8100\n",
      "Epoch 5/20\n",
      "10/10 [==============================] - 6s 558ms/step - loss: 0.5444 - accuracy: 0.7333 - val_loss: 0.3891 - val_accuracy: 0.7766\n",
      "Epoch 6/20\n",
      "10/10 [==============================] - 6s 566ms/step - loss: 0.3911 - accuracy: 0.7967 - val_loss: 0.2846 - val_accuracy: 0.8200\n",
      "Epoch 7/20\n",
      "10/10 [==============================] - 5s 545ms/step - loss: 0.3557 - accuracy: 0.8367 - val_loss: 0.7226 - val_accuracy: 0.8367\n",
      "Epoch 8/20\n",
      "10/10 [==============================] - 5s 536ms/step - loss: 0.3344 - accuracy: 0.8367 - val_loss: 0.6132 - val_accuracy: 0.7867\n",
      "Epoch 9/20\n",
      "10/10 [==============================] - 5s 519ms/step - loss: 0.3375 - accuracy: 0.8700 - val_loss: 0.4334 - val_accuracy: 0.8935\n",
      "Epoch 10/20\n",
      "10/10 [==============================] - 6s 559ms/step - loss: 0.3229 - accuracy: 0.8633 - val_loss: 0.1321 - val_accuracy: 0.9033\n",
      "Epoch 11/20\n",
      "10/10 [==============================] - 5s 536ms/step - loss: 0.3414 - accuracy: 0.8767 - val_loss: 0.3242 - val_accuracy: 0.8467\n",
      "Epoch 12/20\n",
      "10/10 [==============================] - 5s 537ms/step - loss: 0.2939 - accuracy: 0.8833 - val_loss: 0.4142 - val_accuracy: 0.8667\n",
      "Epoch 13/20\n",
      "10/10 [==============================] - 5s 520ms/step - loss: 0.3228 - accuracy: 0.8700 - val_loss: 0.4094 - val_accuracy: 0.8400\n",
      "Epoch 14/20\n",
      "10/10 [==============================] - 6s 558ms/step - loss: 0.2315 - accuracy: 0.9300 - val_loss: 0.0767 - val_accuracy: 0.9313\n",
      "Epoch 15/20\n",
      "10/10 [==============================] - 6s 562ms/step - loss: 0.2760 - accuracy: 0.9067 - val_loss: 0.1835 - val_accuracy: 0.9267\n",
      "Epoch 16/20\n",
      "10/10 [==============================] - 5s 539ms/step - loss: 0.1706 - accuracy: 0.9433 - val_loss: 0.0862 - val_accuracy: 0.9267\n",
      "Epoch 17/20\n",
      "10/10 [==============================] - 5s 514ms/step - loss: 0.2447 - accuracy: 0.9033 - val_loss: 0.0815 - val_accuracy: 0.9267\n",
      "Epoch 18/20\n",
      "10/10 [==============================] - 5s 547ms/step - loss: 0.2697 - accuracy: 0.8867 - val_loss: 0.4063 - val_accuracy: 0.9175\n",
      "Epoch 19/20\n",
      "10/10 [==============================] - 6s 559ms/step - loss: 0.2463 - accuracy: 0.9133 - val_loss: 0.1340 - val_accuracy: 0.9000\n",
      "Epoch 20/20\n",
      "10/10 [==============================] - 5s 543ms/step - loss: 0.1954 - accuracy: 0.9267 - val_loss: 0.2168 - val_accuracy: 0.9200\n"
     ]
    }
   ],
   "source": [
    "history = model.fit_generator(\n",
    "    train_gen,\n",
    "    steps_per_epoch=BATCH_SIZE_TRAIN,\n",
    "    epochs=EPOCHS,\n",
    "    validation_data=val_gen,\n",
    "    validation_steps=BATCH_SIZE_VAL\n",
    ")"
   ]
  },
  {
   "cell_type": "markdown",
   "metadata": {},
   "source": [
    "Evaluating the result"
   ]
  },
  {
   "cell_type": "code",
   "execution_count": 7,
   "metadata": {},
   "outputs": [
    {
     "name": "stdout",
     "output_type": "stream",
     "text": [
      "Model Test Loss: 0.1314617097377777\n",
      "Model Test Accuracy: 0.93666672706604\n"
     ]
    }
   ],
   "source": [
    "scores = model.evaluate_generator(val_gen, steps=BATCH_SIZE_VAL)\n",
    "print(\"Model Test Loss:\" , scores[0])\n",
    "print(\"Model Test Accuracy:\", scores[1])"
   ]
  },
  {
   "cell_type": "markdown",
   "metadata": {},
   "source": [
    "# Saving the model\n",
    "\n",
    "We're using the SavedModel format as that also saves all of the weights "
   ]
  },
  {
   "cell_type": "code",
   "execution_count": 8,
   "metadata": {},
   "outputs": [],
   "source": [
    "model_name = \"akt-model\"\n",
    "\n",
    "model.save(model_name + \".h5\")\n",
    "# can be loaded again with\n",
    "# from keras.models import load_model\n",
    "# model = load_model(model_name + \".h5\")"
   ]
  },
  {
   "cell_type": "markdown",
   "metadata": {},
   "source": [
    "# Evaluating the model\n",
    "\n",
    "The following few steps will output different information about the model"
   ]
  },
  {
   "cell_type": "code",
   "execution_count": 9,
   "metadata": {},
   "outputs": [
    {
     "data": {
      "text/plain": [
       "[<matplotlib.lines.Line2D at 0x7f594807b2b0>]"
      ]
     },
     "execution_count": 9,
     "metadata": {},
     "output_type": "execute_result"
    },
    {
     "data": {
      "image/png": "[encoded data removed]",
      "text/plain": [
       "<Figure size 432x288 with 1 Axes>"
      ]
     },
     "metadata": {
      "needs_background": "light"
     },
     "output_type": "display_data"
    }
   ],
   "source": [
    "plot.plot(history.history['loss'])"
   ]
  },
  {
   "cell_type": "code",
   "execution_count": 10,
   "metadata": {},
   "outputs": [
    {
     "data": {
      "text/plain": [
       "[<matplotlib.lines.Line2D at 0x7f593039d588>]"
      ]
     },
     "execution_count": 10,
     "metadata": {},
     "output_type": "execute_result"
    },
    {
     "data": {
      "image/png": "[encoded data removed]",
      "text/plain": [
       "<Figure size 432x288 with 1 Axes>"
      ]
     },
     "metadata": {
      "needs_background": "light"
     },
     "output_type": "display_data"
    }
   ],
   "source": [
    "plot.plot(history.history['accuracy'])"
   ]
  },
  {
   "cell_type": "code",
   "execution_count": 11,
   "metadata": {
    "scrolled": true
   },
   "outputs": [
    {
     "data": {
      "image/png": "[encoded data removed]",
      "text/plain": [
       "<Figure size 360x360 with 2 Axes>"
      ]
     },
     "metadata": {
      "needs_background": "light"
     },
     "output_type": "display_data"
    }
   ],
   "source": [
    "predictions = model.predict_generator(val_gen)\n",
    "\n",
    "confusion_predicts = list(map(lambda p: np.argmax(p), predictions))\n",
    "\n",
    "con_mat = tf.math.confusion_matrix(val_gen.labels, confusion_predicts, 3).numpy()\n",
    "con_mat_norm = np.around(con_mat.astype('float') / con_mat.sum(axis=1)[:, np.newaxis], decimals=2)\n",
    "con_mat_df = pd.DataFrame(con_mat_norm, index = [0, 1, 2], columns = [0, 1, 2])\n",
    "plt.figure(figsize=(5, 5))\n",
    "sns.heatmap(con_mat_df, annot=True,cmap=plt.cm.YlGn)\n",
    "plt.ylabel('Actual')\n",
    "plt.xlabel('Predicted')\n",
    "plt.show()"
   ]
  },
  {
   "cell_type": "code",
   "execution_count": null,
   "metadata": {},
   "outputs": [],
   "source": []
  }
 ],
 "metadata": {
  "kernelspec": {
   "display_name": "Python 3",
   "language": "python",
   "name": "python3"
  },
  "language_info": {
   "codemirror_mode": {
    "name": "ipython",
    "version": 3
   },
   "file_extension": ".py",
   "mimetype": "text/x-python",
   "name": "python",
   "nbconvert_exporter": "python",
   "pygments_lexer": "ipython3",
   "version": "3.6.8"
  }
 },
 "nbformat": 4,
 "nbformat_minor": 2
}
