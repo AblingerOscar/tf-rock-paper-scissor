{
 "cells": [
  {
   "cell_type": "code",
   "execution_count": null,
   "metadata": {},
   "outputs": [],
   "source": [
    "%matplotlib inline\n",
    "\n",
    "import imageio\n",
    "import matplotlib.pylab as plt\n",
    "import skimage\n",
    "import skimage.morphology\n",
    "import scipy\n",
    "import numpy as np"
   ]
  },
  {
   "cell_type": "markdown",
   "metadata": {},
   "source": [
    "## load ball pit image and scale down"
   ]
  },
  {
   "cell_type": "code",
   "execution_count": null,
   "metadata": {},
   "outputs": [],
   "source": [
    "img = imageio.imread('https://upload.wikimedia.org/wikipedia/commons/7/73/2015-Ostsee-Baellebad.jpg')\n",
    "print(\"shape = \", img.shape)"
   ]
  },
  {
   "cell_type": "code",
   "execution_count": null,
   "metadata": {},
   "outputs": [],
   "source": [
    "img = skimage.transform.rescale(img, 0.3, multichannel=True) \n",
    "print(\"shape = \", img.shape)\n",
    "plt.figure(figsize=(20,20))\n",
    "plt.imshow(img)"
   ]
  },
  {
   "cell_type": "markdown",
   "metadata": {},
   "source": [
    "## manually select target ball color"
   ]
  },
  {
   "cell_type": "code",
   "execution_count": null,
   "metadata": {},
   "outputs": [],
   "source": [
    "target_ball_crop = np.s_[760:820, 130:190] #blue \n",
    "#target_ball_crop = np.s_[870:940, 130:190] #red\n",
    "#target_ball_crop = np.s_[770:850, 310:390] #green\n",
    "plt.imshow(img[target_ball_crop])"
   ]
  },
  {
   "cell_type": "markdown",
   "metadata": {},
   "source": [
    "## convert to HSV"
   ]
  },
  {
   "cell_type": "code",
   "execution_count": null,
   "metadata": {},
   "outputs": [],
   "source": [
    "img_hsv = skimage.color.rgb2hsv(img)"
   ]
  },
  {
   "cell_type": "markdown",
   "metadata": {},
   "source": [
    "## calculate median color"
   ]
  },
  {
   "cell_type": "code",
   "execution_count": null,
   "metadata": {},
   "outputs": [],
   "source": [
    "ball_median_hue = np.median(img_hsv[:,:,0][target_ball_crop])\n",
    "print(ball_median_hue)"
   ]
  },
  {
   "cell_type": "markdown",
   "metadata": {},
   "source": [
    "## color distance from target color"
   ]
  },
  {
   "cell_type": "code",
   "execution_count": null,
   "metadata": {},
   "outputs": [],
   "source": [
    "color_distance = np.abs(img_hsv[:,:,0] - ball_median_hue)"
   ]
  },
  {
   "cell_type": "markdown",
   "metadata": {},
   "source": [
    "### show distance"
   ]
  },
  {
   "cell_type": "code",
   "execution_count": null,
   "metadata": {},
   "outputs": [],
   "source": [
    "plt.figure(figsize=(20,20))\n",
    "plt.imshow(color_distance, cmap=plt.cm.gray_r)"
   ]
  },
  {
   "cell_type": "markdown",
   "metadata": {},
   "source": [
    "note:\n",
    "* _r color maps are \"reversed\""
   ]
  },
  {
   "cell_type": "markdown",
   "metadata": {},
   "source": [
    "## calculate binary mask and clean it up"
   ]
  },
  {
   "cell_type": "code",
   "execution_count": null,
   "metadata": {},
   "outputs": [],
   "source": [
    "ball_mask = color_distance < 0.1\n",
    "\n",
    "ball_mask = skimage.morphology.binary_opening(ball_mask, selem=np.ones((11,11)))                                \n",
    "ball_mask = skimage.morphology.remove_small_objects(ball_mask, 100)\n",
    "\n",
    "plt.figure(figsize=(20,20))\n",
    "\n",
    "plt.subplot(1,2,1)\n",
    "plt.imshow(ball_mask)\n",
    "\n",
    "plt.subplot(1,2,2)\n",
    "plt.imshow(img)"
   ]
  },
  {
   "cell_type": "markdown",
   "metadata": {},
   "source": [
    "## debug image"
   ]
  },
  {
   "cell_type": "code",
   "execution_count": null,
   "metadata": {},
   "outputs": [],
   "source": [
    "debug_img = np.array(img_hsv)\n",
    "debug_img[:,:,1][~ball_mask] = 0.5\n",
    "debug_img[:,:,2][~ball_mask] = 0.5\n",
    "debug_img = skimage.color.hsv2rgb(debug_img)\n",
    "\n",
    "plt.figure(figsize=(20,20))\n",
    "plt.imshow(debug_img)"
   ]
  }
 ],
 "metadata": {
  "kernelspec": {
   "display_name": "Python 3",
   "language": "python",
   "name": "python3"
  },
  "language_info": {
   "codemirror_mode": {
    "name": "ipython",
    "version": 3
   },
   "file_extension": ".py",
   "mimetype": "text/x-python",
   "name": "python",
   "nbconvert_exporter": "python",
   "pygments_lexer": "ipython3",
   "version": "3.6.8"
  }
 },
 "nbformat": 4,
 "nbformat_minor": 2
}
